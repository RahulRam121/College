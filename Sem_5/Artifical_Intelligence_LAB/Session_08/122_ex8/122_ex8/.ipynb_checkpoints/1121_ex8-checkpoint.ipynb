{
 "cells": [
  {
   "cell_type": "code",
   "execution_count": 37,
   "metadata": {},
   "outputs": [],
   "source": [
    "board=[[0 for j in range(0,3)] for i in range(0,3)]#representing the game board\n",
    "#print(board)#initial state\n",
    "player1=('X')\n",
    "player2=('O')\n",
    "pos=[0,0]\n",
    "winflag=' '"
   ]
  },
  {
   "cell_type": "code",
   "execution_count": 38,
   "metadata": {},
   "outputs": [
    {
     "name": "stdout",
     "output_type": "stream",
     "text": [
      "WELCOME TO TIC-TAC-TOE SIMPLE 2 PLAYER DESIGN\n"
     ]
    }
   ],
   "source": [
    "print(\"WELCOME TO TIC-TAC-TOE SIMPLE 2 PLAYER DESIGN\")"
   ]
  },
  {
   "cell_type": "code",
   "execution_count": 39,
   "metadata": {},
   "outputs": [
    {
     "name": "stdout",
     "output_type": "stream",
     "text": [
      "SIMPLE TWO PLAYER TIC TAC TOE GAME DESIGN\n"
     ]
    }
   ],
   "source": [
    "print(\"SIMPLE TWO PLAYER TIC TAC TOE GAME DESIGN\")\n"
   ]
  },
  {
   "cell_type": "code",
   "execution_count": 40,
   "metadata": {},
   "outputs": [
    {
     "name": "stdout",
     "output_type": "stream",
     "text": [
      "Its Player1's chance:\n",
      "Where you wanna place your X?\n"
     ]
    },
    {
     "name": "stdin",
     "output_type": "stream",
     "text": [
      "x pos: 0\n",
      "y pos: 0\n"
     ]
    },
    {
     "name": "stdout",
     "output_type": "stream",
     "text": [
      "Its Player2's chance:\n",
      "Where you wanna place your O?\n"
     ]
    },
    {
     "name": "stdin",
     "output_type": "stream",
     "text": [
      "x pos: 1\n",
      "y pos: 2\n"
     ]
    },
    {
     "name": "stdout",
     "output_type": "stream",
     "text": [
      "Its Player1's chance:\n",
      "Where you wanna place your X?\n"
     ]
    },
    {
     "name": "stdin",
     "output_type": "stream",
     "text": [
      "x pos: 1\n",
      "y pos: 1\n"
     ]
    },
    {
     "name": "stdout",
     "output_type": "stream",
     "text": [
      "Its Player2's chance:\n",
      "Where you wanna place your O?\n"
     ]
    },
    {
     "name": "stdin",
     "output_type": "stream",
     "text": [
      "x pos: 2\n",
      "y pos: 1\n"
     ]
    },
    {
     "name": "stdout",
     "output_type": "stream",
     "text": [
      "Its Player1's chance:\n",
      "Where you wanna place your X?\n"
     ]
    },
    {
     "name": "stdin",
     "output_type": "stream",
     "text": [
      "x pos: 2\n",
      "y pos: 2\n"
     ]
    },
    {
     "name": "stdout",
     "output_type": "stream",
     "text": [
      "['X', 0, 0]\n",
      "[0, 'X', 'O']\n",
      "[0, 'O', 'X']\n",
      "Congratulations!!!!! Player1 wins...\n"
     ]
    }
   ],
   "source": [
    "def winnercheck(l):\n",
    "    if(l[0][0]==l[0][1]==l[0][2]=='X' or l[0][0]==l[0][1]==l[1][0]=='O' ):\n",
    "        winflag=l[0][0]\n",
    "        return 1\n",
    "    elif(l[1][0]==l[1][1]==l[1][2]=='X' or l[1][0]==l[1][1]==l[1][2]=='O' ):\n",
    "        winflag=l[1][0]\n",
    "        return 1\n",
    "    elif(l[2][0]==l[2][1]==l[2][2]=='X' or l[2][0]==l[2][1]==l[2][2]=='X'):\n",
    "        winflag=l[2][0]\n",
    "        return 1\n",
    "    elif(l[0][0]==l[1][0]==l[2][0]=='X' or l[0][0]==l[1][0]==l[2][0]=='O'):\n",
    "        winflag=l[0][0]\n",
    "        return 1\n",
    "    elif(l[0][1]==l[1][1]==l[2][1]=='X' or l[0][1]==l[1][1]==l[2][1]=='O'):\n",
    "        winflag=l[0][1]\n",
    "        return 1\n",
    "    elif(l[0][2]==l[1][2]==l[2][2]=='X' or l[0][2]==l[1][2]==l[2][2]=='O' ):\n",
    "        winflag=l[0][2]\n",
    "        return 1\n",
    "    elif(l[1][1]==l[0][0]==l[2][2]=='X' or l[1][1]==l[0][0]==l[2][2]=='O'):\n",
    "        winflag=l[0][0]\n",
    "        return 1\n",
    "    elif(l[2][0]==l[1][1]==l[0][2]=='X' or l[2][0]==l[1][1]==l[0][2]=='O' ):\n",
    "        winflag=l[2][0]\n",
    "        return 1\n",
    "    else:\n",
    "        return 0\n",
    "def placevalue(l,player,pos): #players placing their symbols at the respective places\n",
    "    l[pos[0]][pos[1]]=player[0]\n",
    "    return l\n",
    "count=1\n",
    "while(winnercheck(board)==0):\n",
    "    if(count%2!=0):\n",
    "        print(\"Its Player1's chance:\")\n",
    "        print(\"Where you wanna place your X?\")\n",
    "        pos[0]=int(input(\"x pos:\"))\n",
    "        pos[1]=int(input(\"y pos:\"))\n",
    "        board=placevalue(board,player1,pos)\n",
    "    elif(count%2==0):\n",
    "        print(\"Its Player2's chance:\")\n",
    "        print(\"Where you wanna place your O?\")\n",
    "        pos[0]=int(input(\"x pos:\"))\n",
    "        pos[1]=int(input(\"y pos:\"))\n",
    "        board=placevalue(board,player2,pos)\n",
    "    count=count+1\n",
    "for i in range(0,3):\n",
    "    print(board[i])\n",
    "if(winflag=='X'):\n",
    "    print(\"Congratulations!!!!! Player2 wins....\")\n",
    "else:\n",
    "    print(\"Congratulations!!!!! Player1 wins...\")\n",
    "    \n",
    "    \n",
    "    \n",
    "    "
   ]
  },
  {
   "cell_type": "code",
   "execution_count": null,
   "metadata": {},
   "outputs": [],
   "source": []
  }
 ],
 "metadata": {
  "kernelspec": {
   "display_name": "Python 3",
   "language": "python",
   "name": "python3"
  },
  "language_info": {
   "codemirror_mode": {
    "name": "ipython",
    "version": 3
   },
   "file_extension": ".py",
   "mimetype": "text/x-python",
   "name": "python",
   "nbconvert_exporter": "python",
   "pygments_lexer": "ipython3",
   "version": "3.7.6"
  }
 },
 "nbformat": 4,
 "nbformat_minor": 4
}
